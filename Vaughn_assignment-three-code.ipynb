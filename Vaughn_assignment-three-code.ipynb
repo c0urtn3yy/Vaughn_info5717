{
 "cells": [
  {
   "cell_type": "markdown",
   "metadata": {},
   "source": [
    "Assignment Three <br>\n",
    "Question 1"
   ]
  },
  {
   "cell_type": "code",
   "execution_count": 6,
   "metadata": {},
   "outputs": [
    {
     "name": "stdout",
     "output_type": "stream",
     "text": [
      "Frequency of words starting with a vowel:\n",
      "(5, 'in')\n",
      "(5, 'and')\n",
      "(5, 'a')\n",
      "(3, 'of')\n",
      "(2, 'as')\n",
      "(1, 'up')\n",
      "(1, 'until')\n",
      "(1, 'uncle')\n",
      "(1, 'on')\n",
      "(1, 'it')\n",
      "(1, 'imagine')\n",
      "(1, 'ever')\n",
      "(1, 'aunt')\n",
      "(1, 'at')\n",
      "(1, 'asleep')\n",
      "(1, 'ask')\n",
      "(1, 'almost')\n",
      "(1, 'all.')\n",
      "(1, 'all')\n",
      "(1, 'about')\n"
     ]
    }
   ],
   "source": [
    "#part 1\n",
    "\n",
    "from typing import List\n",
    "\n",
    "Text = \"\"\"\n",
    "Harry lay in his dark cupboard much later, wishing he had a watch. He didn't know what time it was and he couldn't be sure the Dursleys were asleep yet. Until they were, he couldn't risk sneaking to the kitchen for some food. He'd lived with the Dursleys almost ten years, ten miserable years, as long as he could remember, ever since he'd been a baby and his parents had died in that car crash. He couldn't remember being in the car when his parents \n",
    "had died. Sometimes, when he strained his memory during long hours in his cupboard, he came up with a strange vision: a blinding flash of green light and a burning pain on his forehead.  \n",
    "This, he supposed, was the crash, though he couldn't imagine where all the green light came from. He couldn't remember his parents at all. His aunt and uncle never spoke about them, and of course he was forbidden to ask questions. There were no photographs of them in the house. \"\"\"\n",
    "\n",
    "# lower case all words for python to identify vowels\n",
    "for char in '-.,\\n':\n",
    "    Text_t = Text.replace(char, ' ')\n",
    "Text_t = Text_t.lower()\n",
    "word_list = Text_t.split()\n",
    "\n",
    "vowels = ['a', 'e', 'i', 'o', 'u']\n",
    "\n",
    "d = {}\n",
    "\n",
    "# counting words\n",
    "for word in word_list:\n",
    "    if word[0] in vowels:\n",
    "        d[word] = d.get(word, 0) + 1\n",
    "\n",
    "# sort the words\n",
    "\n",
    "word_frequency = []\n",
    "for key, value in d.items():\n",
    "    word_frequency.append((value, key))\n",
    "\n",
    "# decreasing order\n",
    "\n",
    "word_frequency.sort(reverse = True)\n",
    "\n",
    "print(\"Frequency of words starting with a vowel:\")\n",
    "\n",
    "for word in word_frequency:\n",
    "    print(word)"
   ]
  },
  {
   "cell_type": "code",
   "execution_count": 11,
   "metadata": {},
   "outputs": [
    {
     "name": "stdout",
     "output_type": "stream",
     "text": [
      "\n",
      "Words containing an apostrophe:\n",
      "[\"didn't\", \"he'd\", \"couldn't\"]\n"
     ]
    }
   ],
   "source": [
    "#part 2\n",
    "apostrophe_words = [word\n",
    "    for word in word_list\n",
    "        if \"'\" in word]\n",
    "apostrophe_words = list(set(apostrophe_words))\n",
    "print(\"\")\n",
    "print(\"Words containing an apostrophe:\")\n",
    "print(apostrophe_words)"
   ]
  },
  {
   "cell_type": "code",
   "execution_count": 33,
   "metadata": {},
   "outputs": [
    {
     "name": "stdout",
     "output_type": "stream",
     "text": [
      "\n",
      "Text without stopwords and/or words with apostrophe:\n",
      "Harry lay in his dark cupboard much later, wishing he had a watch. He know what time it was and he be sure the Dursleys were asleep yet. Until they were, he risk sneaking to the kitchen for some food. lived with the Dursleys almost ten years, ten miserable years, as long as he could remember, ever since been a baby and his parents had died in that car crash. He remember being in the car when his parents had died. Sometimes, when he strained his memory during long hours in his cupboard, he came up with a strange vision: a blinding flash of green light and a burning pain on his forehead. This, he supposed, was the crash, though he imagine where all the green light came from. He remember his parents at all. His aunt and uncle never spoke about them, and of course he was forbidden to ask questions. There were no photographs of them in the house.\n"
     ]
    }
   ],
   "source": [
    "#part 3\n",
    "# created a txt file containing all stopwords\n",
    "stopwords = []\n",
    "f = open('/Users/courtney/Desktop/5717/Assignment3/assign3-stopwords.txt', 'r') \n",
    "for word in f:\n",
    "    stopwords.append(word.strip('\\n'))\n",
    "\n",
    "reduced = Text.split()\n",
    "undict = stopwords + apostrophe_words\n",
    "TextProc = []\n",
    "for j in reduced:\n",
    "     if j.lower() not in undict:\n",
    "           TextProc.append(j)\n",
    "\n",
    "print(\"\")\n",
    "print(\"Text without stopwords and/or words with apostrophe:\")\n",
    "print(' '.join(TextProc))"
   ]
  },
  {
   "cell_type": "markdown",
   "metadata": {},
   "source": [
    "Question 2"
   ]
  },
  {
   "cell_type": "code",
   "execution_count": 47,
   "metadata": {},
   "outputs": [
    {
     "name": "stdout",
     "output_type": "stream",
     "text": [
      "High Temperature\n",
      "File name             \t Mean             \t Median   \t Standard deviation\n",
      "/Users/courtney/Desktop/5717/Assignment3/2011-Jan-June.csv \t 73.5524861878453 \t 77.0 \t\t 19.39426481394485\n",
      "/Users/courtney/Desktop/5717/Assignment3/2018-Jan-June.csv \t 73.06629834254143 \t 73.0 \t\t 17.293095028538204\n",
      "\n",
      "\n",
      "Low Temperature\n",
      "File name             \t Mean             \t Median   \t Standard deviation\n",
      "/Users/courtney/Desktop/5717/Assignment3/2011-Jan-June.csv \t 50.04419889502763 \t 49.0 \t\t 18.526804366892577\n",
      "/Users/courtney/Desktop/5717/Assignment3/2018-Jan-June.csv \t 49.386740331491715 \t 47.0 \t\t 17.64037795274044\n",
      "\n",
      "\n",
      "Precipitation\n",
      "File name             \t Mean             \t Median   \t Standard deviation\n",
      "/Users/courtney/Desktop/5717/Assignment3/2011-Jan-June.csv \t 0.10585635359116022 \t 0.0 \t\t 0.43081055558868314\n",
      "/Users/courtney/Desktop/5717/Assignment3/2018-Jan-June.csv \t 0.08033149171270718 \t 0.0 \t\t 0.30312428795331936\n"
     ]
    }
   ],
   "source": [
    "#part 2\n",
    "import csv\n",
    "import statistics as st\n",
    "\n",
    "file_a = '/Users/courtney/Desktop/5717/Assignment3/2011-Jan-June.csv'\n",
    "file_b = '/Users/courtney/Desktop/5717/Assignment3/2018-Jan-June.csv'\n",
    "\n",
    "\n",
    "with open(file_a, newline='') as csv_file_a:\n",
    "    array_a = list(csv.reader(csv_file_a))\n",
    "\n",
    "# Read second file to array\n",
    "with open(file_b, newline='') as csv_file_b:\n",
    "    array_b = list(csv.reader(csv_file_b))\n",
    "    \n",
    "str_end = ' '  \n",
    "\n",
    "print('High Temperature')\n",
    "print('File name            ', '\\t', 'Mean            ' , '\\t', 'Median  ' , '\\t','Standard deviation')\n",
    "print(file_a, end=str_end)\n",
    "print('\\t', st.mean([float(row[1]) for row in array_a]), end=str_end)\n",
    "print('\\t', st.median([float(row[1]) for row in array_a]), end=str_end)\n",
    "print('\\t\\t', st.stdev([float(row[1]) for row in array_a]))\n",
    "print(file_b, end=str_end)\n",
    "print('\\t', st.mean([float(row[1]) for row in array_b]), end=str_end)\n",
    "print('\\t',st.median([float(row[1]) for row in array_b]), end=str_end)\n",
    "print('\\t\\t', st.stdev([float(row[1]) for row in array_b]))\n",
    "\n",
    "print ('\\n')\n",
    "\n",
    "print('Low Temperature')\n",
    "print('File name            ', '\\t', 'Mean            ' , '\\t', 'Median  ' , '\\t','Standard deviation')\n",
    "print(file_a, end=str_end)\n",
    "print('\\t', st.mean([float(row[2]) for row in array_a]), end=str_end)\n",
    "print('\\t', st.median([float(row[2]) for row in array_a]), end=str_end)\n",
    "print('\\t\\t', st.stdev([float(row[2]) for row in array_a]))\n",
    "print(file_b, end=str_end)\n",
    "print('\\t', st.mean([float(row[2]) for row in array_b]), end=str_end)\n",
    "print('\\t', st.median([float(row[2]) for row in array_b]), end=str_end)\n",
    "print('\\t\\t', st.stdev([float(row[2]) for row in array_b]))\n",
    "\n",
    "print ('\\n')\n",
    "\n",
    "print('Precipitation')\n",
    "print('File name            ', '\\t', 'Mean            ' , '\\t', 'Median  ' , '\\t','Standard deviation')\n",
    "print(file_a, end=str_end)\n",
    "print('\\t', st.mean([float(row[3]) for row in array_a]), end=str_end)\n",
    "print('\\t', st.median([float(row[3]) for row in array_a]), end=str_end)\n",
    "print('\\t\\t', st.stdev([float(row[3]) for row in array_a]))\n",
    "print(file_b, end=str_end)\n",
    "print('\\t', st.mean([float(row[3]) for row in array_b]), end=str_end)\n",
    "print('\\t', st.median([float(row[3]) for row in array_b]), end=str_end)\n",
    "print('\\t\\t', st.stdev([float(row[3]) for row in array_b]))\n"
   ]
  },
  {
   "cell_type": "markdown",
   "metadata": {},
   "source": [
    "Question 3"
   ]
  },
  {
   "cell_type": "code",
   "execution_count": 50,
   "metadata": {},
   "outputs": [
    {
     "name": "stdout",
     "output_type": "stream",
     "text": [
      "Enter infomation for three students:\n",
      "First name: Jennifer\n",
      "Last name: Vaughn\n",
      "Middle name: Ann\n",
      "Record for student is created.\n",
      "First name: Karolyn\n",
      "Last name: Short\n",
      "Middle name: Rene\n",
      "Record for student is created.\n",
      "First name: William\n",
      "Last name: Koons\n",
      "Middle name: Jeffrey\n",
      "Record for student is created.\n"
     ]
    }
   ],
   "source": [
    "#part 1 and part 2\n",
    "\n",
    "class Student(object):\n",
    "   \n",
    "    def __init__(self, FName, LName, MName):\n",
    "            self.FirstName = FName\n",
    "            self.LastName = LName\n",
    "            self.MiddleName = MName\n",
    "            self.ClassesTaken = []\n",
    "            self.euid = \"\"\n",
    "            self.GPA = ()\n",
    "                        \n",
    "            print(\"Record for student is created.\")\n",
    "\n",
    "    def print_details(self):\n",
    "       \n",
    "        print(\"Student:\", self.FirstName, \" \", self.MiddleName, \" \", self.LastName )\n",
    "        \n",
    "        \n",
    "    @classmethod     \n",
    "    def from_input(cls):\n",
    "        return cls(\n",
    "            input('First name: '),\n",
    "            input('Last name: '), \n",
    "            input('Middle name: '),\n",
    "        )  \n",
    "\n",
    "\n",
    "Students = {}\n",
    "print(\"Enter infomation for three students:\")\n",
    "for i in range(3):  \n",
    "    Students[i] = Student.from_input()"
   ]
  },
  {
   "cell_type": "code",
   "execution_count": 58,
   "metadata": {},
   "outputs": [
    {
     "name": "stdout",
     "output_type": "stream",
     "text": [
      "Student name \t\t Student euid\n",
      "Jennifer Ann Vaughn \t jav1056\n",
      "Karolyn Rene Short \t krs1886\n",
      "William Jeffrey Koons \t wjk2865\n"
     ]
    }
   ],
   "source": [
    "#part 3\n",
    "\n",
    "import random\n",
    "def createid(each_student):\n",
    "  each_student.euid = each_student.FirstName.lower()[0] + each_student.MiddleName.lower()[0] + each_student.LastName.lower()[0] + str(random.randint(1000,9999))  \n",
    "  print(each_student.FirstName, each_student.MiddleName, each_student.LastName, \"\\t\", each_student.euid)\n",
    "    \n",
    "print(\"Student name \\t\\t Student euid\")   \n",
    "for i in range(3):  \n",
    "    createid(Students[i])"
   ]
  },
  {
   "cell_type": "code",
   "execution_count": 66,
   "metadata": {},
   "outputs": [
    {
     "name": "stdout",
     "output_type": "stream",
     "text": [
      "Number of courses jav1056 is registered in:2\n",
      "Enter the class number, Semester, Grade: Info 5717, Fall 2019, A\n",
      "Enter the class number, Semester, Grade: MGMT 5140, Fall 2019, B\n",
      "Number of courses krs1886 is registered in:2\n",
      "Enter the class number, Semester, Grade: Info 5717, Fall 2019, A\n",
      "Enter the class number, Semester, Grade: Acom 4200, Spring 2020, TBD\n",
      "Number of courses wjk2865 is registered in:2\n",
      "Enter the class number, Semester, Grade: Info 5717, Fall 2019, B\n",
      "Enter the class number, Semester, Grade: Jour 4350, Spring 2020, TBD\n"
     ]
    }
   ],
   "source": [
    "#part 4  \n",
    "\n",
    "def register(each_student):\n",
    "    m = int(input(f\"Number of courses {each_student.euid} is registered in:\"))   \n",
    "    if m < 2:\n",
    "        print(\"Student should register for at least two courses.\")\n",
    "        print(\"Please enter the correct value.\")\n",
    "        m = int(input(\"\"))\n",
    "    for _ in range(m):\n",
    "        a, b, c = input(\"Enter the class number, Semester, Grade: \").split(\",\")\n",
    "        each_student.ClassesTaken.append([a,b,c])  \n",
    "\n",
    "for i in range(3):\n",
    "    register(Students[i])"
   ]
  },
  {
   "cell_type": "code",
   "execution_count": 68,
   "metadata": {},
   "outputs": [
    {
     "name": "stdout",
     "output_type": "stream",
     "text": [
      "Student name \t\t GPA\n",
      "Jennifer Ann Vaughn \t 3.5\n",
      "Karolyn Rene Short \t 2.0\n",
      "William Jeffrey Koons \t 1.5\n"
     ]
    }
   ],
   "source": [
    "#part 5\n",
    "# Calculae GPA (as the average of all courses at which a student took)\n",
    "def Grade2gpa(argument):\n",
    "    switcher = {\n",
    "        \"A\": 4,\n",
    "        \"B\": 3,\n",
    "        \"C\": 2,\n",
    "        \"D\": 1,\n",
    "        \"E\": 0,\n",
    "    }\n",
    "    return switcher.get(argument.strip(), 0)\n",
    "\n",
    "def GPA_calc(each_student):\n",
    "    m = 0\n",
    "    for i in range(len(each_student.ClassesTaken)):\n",
    "        n = each_student.ClassesTaken[i] \n",
    "        m = m + int(Grade2gpa(n[2])) #GPA of the class \n",
    "    m = m / len(each_student.ClassesTaken)  \n",
    "    return round(m, 2)  \n",
    "\n",
    "print(\"Student name \\t\\t GPA\")  \n",
    "for i in range(3): \n",
    "    print(Students[i].FirstName, Students[i].MiddleName, Students[i].LastName, \"\\t\", GPA_calc(Students[i]))"
   ]
  },
  {
   "cell_type": "markdown",
   "metadata": {},
   "source": [
    "Extra Credit"
   ]
  },
  {
   "cell_type": "code",
   "execution_count": 73,
   "metadata": {},
   "outputs": [
    {
     "name": "stdout",
     "output_type": "stream",
     "text": [
      "************************\n",
      "** A Simple Math Quiz **\n",
      "************************\n",
      "1. Addition\n",
      "2. Subtraction\n",
      "3. Multiplication\n",
      "4. Integer Division\n",
      "5. Exit\n",
      "------------------------\n",
      "Enter your choice: 1\n",
      "Enter your answer\n",
      "35+76 = 111\n",
      "Correct.\n",
      "Enter your choice: 5\n",
      "Exit the quiz.\n",
      "------------------------\n",
      "You answered 1 questions with 1 correct.\n",
      "Your score is 100.0%. Thank you.\n"
     ]
    }
   ],
   "source": [
    "def quiz_introduction():\n",
    "   print(\"*\" * 24)\n",
    "   print(\"** A Simple Math Quiz **\")\n",
    "   print(\"*\" * 24)\n",
    "\n",
    "def quiz_questions_init():\n",
    "   print(\"1. Addition\")\n",
    "   print(\"2. Subtraction\")\n",
    "   print(\"3. Multiplication\")\n",
    "   print(\"4. Integer Division\")\n",
    "   print(\"5. Exit\")\n",
    "\n",
    "def section_separator():\n",
    "  print(\"-\" * 24)\n",
    "\n",
    "def get_user_question_choice():\n",
    "    val = int(input(\"Enter your choice: \"))\n",
    "    return val\n",
    "\n",
    "def quiz_questions(option, count):\n",
    "  import random\n",
    "  a1 = random.randint(1,99)\n",
    "  a2 = random.randint(1,99)\n",
    "  if option == 1:\n",
    "     problem = str(a1) + \"+\" + str(a2)\n",
    "     answer = a1 + a2\n",
    "  elif option == 2:\n",
    "     problem = str(a1) + \"-\" + str(a2)\n",
    "     answer = a1 - a2\n",
    "  elif option == 3:\n",
    "     problem = str(a1) + \"*\" + str(a2)\n",
    "     answer = a1 * a2\n",
    "  elif option == 4:\n",
    "     problem = str(a1) + \" / \" + str(a2)\n",
    "     answer = a1 // a2\n",
    "  user_answer = get_user_input_solution(problem)\n",
    "  res = solution_checking(user_answer, answer, count)\n",
    "  return res\n",
    "\n",
    "def get_user_input_solution(problem):\n",
    "  print(\"Enter your answer\")\n",
    "  print(problem, end=\"\")\n",
    "  result = int(input(\" = \"))\n",
    "  return result\n",
    "\n",
    "def show_result(total, correct):\n",
    "  print(f\"You answered {total} questions with {correct} correct.\")\n",
    "  print(f\"Your score is {round(correct*100/total,2)}%. Thank you.\")\n",
    "\n",
    "def solution_checking(user_solution, solution, count):\n",
    "    if int(user_solution) == int(solution):\n",
    "       res = count + 1\n",
    "       print(\"Correct.\")\n",
    "    else:\n",
    "       res = count\n",
    "       print(\"Wrong.\")\n",
    "    return res\n",
    "\n",
    "\n",
    "def main():\n",
    "  total = 0\n",
    "  correct = 0\n",
    "  quiz_introduction()\n",
    "  quiz_questions_init()\n",
    "  section_separator()\n",
    "  option = get_user_question_choice()\n",
    "  while option != 5:\n",
    "     total = total + 1\n",
    "     correct = quiz_questions(option, correct)\n",
    "     option = get_user_question_choice()\n",
    "  print(\"Exit the quiz.\")\n",
    "  section_separator()\n",
    "  show_result(total, correct)\n",
    "\n",
    "\n",
    "main()"
   ]
  },
  {
   "cell_type": "code",
   "execution_count": null,
   "metadata": {},
   "outputs": [],
   "source": []
  }
 ],
 "metadata": {
  "kernelspec": {
   "display_name": "Python 3",
   "language": "python",
   "name": "python3"
  },
  "language_info": {
   "codemirror_mode": {
    "name": "ipython",
    "version": 3
   },
   "file_extension": ".py",
   "mimetype": "text/x-python",
   "name": "python",
   "nbconvert_exporter": "python",
   "pygments_lexer": "ipython3",
   "version": "3.7.1"
  }
 },
 "nbformat": 4,
 "nbformat_minor": 2
}
